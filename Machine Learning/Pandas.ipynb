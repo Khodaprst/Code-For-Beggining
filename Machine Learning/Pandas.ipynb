{
 "cells": [
  {
   "cell_type": "markdown",
   "id": "6eac7f65",
   "metadata": {},
   "source": [
    "# Pandas"
   ]
  },
  {
   "cell_type": "code",
   "execution_count": 2,
   "id": "1b53794e",
   "metadata": {},
   "outputs": [],
   "source": [
    "import pandas as pd\n",
    "import numpy as np"
   ]
  },
  {
   "cell_type": "code",
   "execution_count": 3,
   "id": "ec03e900",
   "metadata": {},
   "outputs": [
    {
     "data": {
      "text/plain": [
       "0       1\n",
       "1       2\n",
       "2       3\n",
       "3    Amir\n",
       "4       0\n",
       "5     NaN\n",
       "6      -1\n",
       "dtype: object"
      ]
     },
     "execution_count": 3,
     "metadata": {},
     "output_type": "execute_result"
    }
   ],
   "source": [
    "pd.Series([1, 2, 3, 'Amir', 0, np.nan , -1])"
   ]
  },
  {
   "cell_type": "code",
   "execution_count": 4,
   "id": "a569c4bc",
   "metadata": {},
   "outputs": [
    {
     "data": {
      "text/plain": [
       "DatetimeIndex(['2022-02-28', '2022-03-01', '2022-03-02', '2022-03-03',\n",
       "               '2022-03-04', '2022-03-05'],\n",
       "              dtype='datetime64[ns]', freq='D')"
      ]
     },
     "execution_count": 4,
     "metadata": {},
     "output_type": "execute_result"
    }
   ],
   "source": [
    "dates = pd.date_range('20220228', periods=6)\n",
    "dates"
   ]
  },
  {
   "cell_type": "code",
   "execution_count": 42,
   "id": "e72f0893",
   "metadata": {},
   "outputs": [
    {
     "data": {
      "text/html": [
       "<div>\n",
       "<style scoped>\n",
       "    .dataframe tbody tr th:only-of-type {\n",
       "        vertical-align: middle;\n",
       "    }\n",
       "\n",
       "    .dataframe tbody tr th {\n",
       "        vertical-align: top;\n",
       "    }\n",
       "\n",
       "    .dataframe thead th {\n",
       "        text-align: right;\n",
       "    }\n",
       "</style>\n",
       "<table border=\"1\" class=\"dataframe\">\n",
       "  <thead>\n",
       "    <tr style=\"text-align: right;\">\n",
       "      <th></th>\n",
       "      <th>rand1</th>\n",
       "      <th>rand2</th>\n",
       "      <th>rand3</th>\n",
       "      <th>rand4</th>\n",
       "    </tr>\n",
       "  </thead>\n",
       "  <tbody>\n",
       "    <tr>\n",
       "      <th>2022-02-28</th>\n",
       "      <td>0.751421</td>\n",
       "      <td>0.435172</td>\n",
       "      <td>-0.614639</td>\n",
       "      <td>1.270648</td>\n",
       "    </tr>\n",
       "    <tr>\n",
       "      <th>2022-03-01</th>\n",
       "      <td>-2.123812</td>\n",
       "      <td>-0.428428</td>\n",
       "      <td>-1.701824</td>\n",
       "      <td>0.130659</td>\n",
       "    </tr>\n",
       "    <tr>\n",
       "      <th>2022-03-02</th>\n",
       "      <td>1.415439</td>\n",
       "      <td>1.838774</td>\n",
       "      <td>1.645187</td>\n",
       "      <td>-0.625112</td>\n",
       "    </tr>\n",
       "    <tr>\n",
       "      <th>2022-03-03</th>\n",
       "      <td>0.532092</td>\n",
       "      <td>0.767640</td>\n",
       "      <td>-0.331015</td>\n",
       "      <td>2.634668</td>\n",
       "    </tr>\n",
       "    <tr>\n",
       "      <th>2022-03-04</th>\n",
       "      <td>0.688475</td>\n",
       "      <td>0.601126</td>\n",
       "      <td>-1.774770</td>\n",
       "      <td>-1.167303</td>\n",
       "    </tr>\n",
       "    <tr>\n",
       "      <th>2022-03-05</th>\n",
       "      <td>0.748841</td>\n",
       "      <td>0.830385</td>\n",
       "      <td>2.093621</td>\n",
       "      <td>0.984442</td>\n",
       "    </tr>\n",
       "  </tbody>\n",
       "</table>\n",
       "</div>"
      ],
      "text/plain": [
       "               rand1     rand2     rand3     rand4\n",
       "2022-02-28  0.751421  0.435172 -0.614639  1.270648\n",
       "2022-03-01 -2.123812 -0.428428 -1.701824  0.130659\n",
       "2022-03-02  1.415439  1.838774  1.645187 -0.625112\n",
       "2022-03-03  0.532092  0.767640 -0.331015  2.634668\n",
       "2022-03-04  0.688475  0.601126 -1.774770 -1.167303\n",
       "2022-03-05  0.748841  0.830385  2.093621  0.984442"
      ]
     },
     "execution_count": 42,
     "metadata": {},
     "output_type": "execute_result"
    }
   ],
   "source": [
    "df = pd.DataFrame(np.random.randn(6, 4), index=dates, columns=['rand1', 'rand2', 'rand3', 'rand4'])\n",
    "df"
   ]
  },
  {
   "cell_type": "code",
   "execution_count": 43,
   "id": "ee6d604a",
   "metadata": {},
   "outputs": [
    {
     "data": {
      "text/plain": [
       "rand1    float64\n",
       "rand2    float64\n",
       "rand3    float64\n",
       "rand4    float64\n",
       "dtype: object"
      ]
     },
     "execution_count": 43,
     "metadata": {},
     "output_type": "execute_result"
    }
   ],
   "source": [
    "df.dtypes"
   ]
  },
  {
   "cell_type": "code",
   "execution_count": 44,
   "id": "d69661c4",
   "metadata": {},
   "outputs": [
    {
     "data": {
      "text/html": [
       "<div>\n",
       "<style scoped>\n",
       "    .dataframe tbody tr th:only-of-type {\n",
       "        vertical-align: middle;\n",
       "    }\n",
       "\n",
       "    .dataframe tbody tr th {\n",
       "        vertical-align: top;\n",
       "    }\n",
       "\n",
       "    .dataframe thead th {\n",
       "        text-align: right;\n",
       "    }\n",
       "</style>\n",
       "<table border=\"1\" class=\"dataframe\">\n",
       "  <thead>\n",
       "    <tr style=\"text-align: right;\">\n",
       "      <th></th>\n",
       "      <th>rand1</th>\n",
       "      <th>rand2</th>\n",
       "      <th>rand3</th>\n",
       "      <th>rand4</th>\n",
       "    </tr>\n",
       "  </thead>\n",
       "  <tbody>\n",
       "    <tr>\n",
       "      <th>2022-02-28</th>\n",
       "      <td>0.751421</td>\n",
       "      <td>0.435172</td>\n",
       "      <td>-0.614639</td>\n",
       "      <td>1.270648</td>\n",
       "    </tr>\n",
       "    <tr>\n",
       "      <th>2022-03-01</th>\n",
       "      <td>-2.123812</td>\n",
       "      <td>-0.428428</td>\n",
       "      <td>-1.701824</td>\n",
       "      <td>0.130659</td>\n",
       "    </tr>\n",
       "    <tr>\n",
       "      <th>2022-03-02</th>\n",
       "      <td>1.415439</td>\n",
       "      <td>1.838774</td>\n",
       "      <td>1.645187</td>\n",
       "      <td>-0.625112</td>\n",
       "    </tr>\n",
       "    <tr>\n",
       "      <th>2022-03-03</th>\n",
       "      <td>0.532092</td>\n",
       "      <td>0.767640</td>\n",
       "      <td>-0.331015</td>\n",
       "      <td>2.634668</td>\n",
       "    </tr>\n",
       "    <tr>\n",
       "      <th>2022-03-04</th>\n",
       "      <td>0.688475</td>\n",
       "      <td>0.601126</td>\n",
       "      <td>-1.774770</td>\n",
       "      <td>-1.167303</td>\n",
       "    </tr>\n",
       "  </tbody>\n",
       "</table>\n",
       "</div>"
      ],
      "text/plain": [
       "               rand1     rand2     rand3     rand4\n",
       "2022-02-28  0.751421  0.435172 -0.614639  1.270648\n",
       "2022-03-01 -2.123812 -0.428428 -1.701824  0.130659\n",
       "2022-03-02  1.415439  1.838774  1.645187 -0.625112\n",
       "2022-03-03  0.532092  0.767640 -0.331015  2.634668\n",
       "2022-03-04  0.688475  0.601126 -1.774770 -1.167303"
      ]
     },
     "execution_count": 44,
     "metadata": {},
     "output_type": "execute_result"
    }
   ],
   "source": [
    "df.head()"
   ]
  },
  {
   "cell_type": "code",
   "execution_count": 45,
   "id": "1c3acdcd",
   "metadata": {},
   "outputs": [
    {
     "data": {
      "text/html": [
       "<div>\n",
       "<style scoped>\n",
       "    .dataframe tbody tr th:only-of-type {\n",
       "        vertical-align: middle;\n",
       "    }\n",
       "\n",
       "    .dataframe tbody tr th {\n",
       "        vertical-align: top;\n",
       "    }\n",
       "\n",
       "    .dataframe thead th {\n",
       "        text-align: right;\n",
       "    }\n",
       "</style>\n",
       "<table border=\"1\" class=\"dataframe\">\n",
       "  <thead>\n",
       "    <tr style=\"text-align: right;\">\n",
       "      <th></th>\n",
       "      <th>rand1</th>\n",
       "      <th>rand2</th>\n",
       "      <th>rand3</th>\n",
       "      <th>rand4</th>\n",
       "    </tr>\n",
       "  </thead>\n",
       "  <tbody>\n",
       "    <tr>\n",
       "      <th>count</th>\n",
       "      <td>6.000000</td>\n",
       "      <td>6.000000</td>\n",
       "      <td>6.000000</td>\n",
       "      <td>6.000000</td>\n",
       "    </tr>\n",
       "    <tr>\n",
       "      <th>mean</th>\n",
       "      <td>0.335410</td>\n",
       "      <td>0.674112</td>\n",
       "      <td>-0.113907</td>\n",
       "      <td>0.538000</td>\n",
       "    </tr>\n",
       "    <tr>\n",
       "      <th>std</th>\n",
       "      <td>1.242704</td>\n",
       "      <td>0.730427</td>\n",
       "      <td>1.645929</td>\n",
       "      <td>1.382672</td>\n",
       "    </tr>\n",
       "    <tr>\n",
       "      <th>min</th>\n",
       "      <td>-2.123812</td>\n",
       "      <td>-0.428428</td>\n",
       "      <td>-1.774770</td>\n",
       "      <td>-1.167303</td>\n",
       "    </tr>\n",
       "    <tr>\n",
       "      <th>25%</th>\n",
       "      <td>0.571188</td>\n",
       "      <td>0.476661</td>\n",
       "      <td>-1.430028</td>\n",
       "      <td>-0.436169</td>\n",
       "    </tr>\n",
       "    <tr>\n",
       "      <th>50%</th>\n",
       "      <td>0.718658</td>\n",
       "      <td>0.684383</td>\n",
       "      <td>-0.472827</td>\n",
       "      <td>0.557551</td>\n",
       "    </tr>\n",
       "    <tr>\n",
       "      <th>75%</th>\n",
       "      <td>0.750776</td>\n",
       "      <td>0.814699</td>\n",
       "      <td>1.151136</td>\n",
       "      <td>1.199097</td>\n",
       "    </tr>\n",
       "    <tr>\n",
       "      <th>max</th>\n",
       "      <td>1.415439</td>\n",
       "      <td>1.838774</td>\n",
       "      <td>2.093621</td>\n",
       "      <td>2.634668</td>\n",
       "    </tr>\n",
       "  </tbody>\n",
       "</table>\n",
       "</div>"
      ],
      "text/plain": [
       "          rand1     rand2     rand3     rand4\n",
       "count  6.000000  6.000000  6.000000  6.000000\n",
       "mean   0.335410  0.674112 -0.113907  0.538000\n",
       "std    1.242704  0.730427  1.645929  1.382672\n",
       "min   -2.123812 -0.428428 -1.774770 -1.167303\n",
       "25%    0.571188  0.476661 -1.430028 -0.436169\n",
       "50%    0.718658  0.684383 -0.472827  0.557551\n",
       "75%    0.750776  0.814699  1.151136  1.199097\n",
       "max    1.415439  1.838774  2.093621  2.634668"
      ]
     },
     "execution_count": 45,
     "metadata": {},
     "output_type": "execute_result"
    }
   ],
   "source": [
    "df.describe()"
   ]
  },
  {
   "cell_type": "code",
   "execution_count": 46,
   "id": "c19dda0a",
   "metadata": {},
   "outputs": [
    {
     "data": {
      "text/plain": [
       "rand1    0.335410\n",
       "rand2    0.674112\n",
       "rand3   -0.113907\n",
       "rand4    0.538000\n",
       "dtype: float64"
      ]
     },
     "execution_count": 46,
     "metadata": {},
     "output_type": "execute_result"
    }
   ],
   "source": [
    "df.mean()"
   ]
  },
  {
   "cell_type": "code",
   "execution_count": 47,
   "id": "1ad5f06c",
   "metadata": {},
   "outputs": [
    {
     "data": {
      "text/html": [
       "<div>\n",
       "<style scoped>\n",
       "    .dataframe tbody tr th:only-of-type {\n",
       "        vertical-align: middle;\n",
       "    }\n",
       "\n",
       "    .dataframe tbody tr th {\n",
       "        vertical-align: top;\n",
       "    }\n",
       "\n",
       "    .dataframe thead th {\n",
       "        text-align: right;\n",
       "    }\n",
       "</style>\n",
       "<table border=\"1\" class=\"dataframe\">\n",
       "  <thead>\n",
       "    <tr style=\"text-align: right;\">\n",
       "      <th></th>\n",
       "      <th>2022-02-28</th>\n",
       "      <th>2022-03-01</th>\n",
       "      <th>2022-03-02</th>\n",
       "      <th>2022-03-03</th>\n",
       "      <th>2022-03-04</th>\n",
       "      <th>2022-03-05</th>\n",
       "    </tr>\n",
       "  </thead>\n",
       "  <tbody>\n",
       "    <tr>\n",
       "      <th>rand1</th>\n",
       "      <td>0.751421</td>\n",
       "      <td>-2.123812</td>\n",
       "      <td>1.415439</td>\n",
       "      <td>0.532092</td>\n",
       "      <td>0.688475</td>\n",
       "      <td>0.748841</td>\n",
       "    </tr>\n",
       "    <tr>\n",
       "      <th>rand2</th>\n",
       "      <td>0.435172</td>\n",
       "      <td>-0.428428</td>\n",
       "      <td>1.838774</td>\n",
       "      <td>0.767640</td>\n",
       "      <td>0.601126</td>\n",
       "      <td>0.830385</td>\n",
       "    </tr>\n",
       "    <tr>\n",
       "      <th>rand3</th>\n",
       "      <td>-0.614639</td>\n",
       "      <td>-1.701824</td>\n",
       "      <td>1.645187</td>\n",
       "      <td>-0.331015</td>\n",
       "      <td>-1.774770</td>\n",
       "      <td>2.093621</td>\n",
       "    </tr>\n",
       "    <tr>\n",
       "      <th>rand4</th>\n",
       "      <td>1.270648</td>\n",
       "      <td>0.130659</td>\n",
       "      <td>-0.625112</td>\n",
       "      <td>2.634668</td>\n",
       "      <td>-1.167303</td>\n",
       "      <td>0.984442</td>\n",
       "    </tr>\n",
       "  </tbody>\n",
       "</table>\n",
       "</div>"
      ],
      "text/plain": [
       "       2022-02-28  2022-03-01  2022-03-02  2022-03-03  2022-03-04  2022-03-05\n",
       "rand1    0.751421   -2.123812    1.415439    0.532092    0.688475    0.748841\n",
       "rand2    0.435172   -0.428428    1.838774    0.767640    0.601126    0.830385\n",
       "rand3   -0.614639   -1.701824    1.645187   -0.331015   -1.774770    2.093621\n",
       "rand4    1.270648    0.130659   -0.625112    2.634668   -1.167303    0.984442"
      ]
     },
     "execution_count": 47,
     "metadata": {},
     "output_type": "execute_result"
    }
   ],
   "source": [
    "df.T"
   ]
  },
  {
   "cell_type": "code",
   "execution_count": 48,
   "id": "01b18a23",
   "metadata": {},
   "outputs": [
    {
     "data": {
      "text/html": [
       "<div>\n",
       "<style scoped>\n",
       "    .dataframe tbody tr th:only-of-type {\n",
       "        vertical-align: middle;\n",
       "    }\n",
       "\n",
       "    .dataframe tbody tr th {\n",
       "        vertical-align: top;\n",
       "    }\n",
       "\n",
       "    .dataframe thead th {\n",
       "        text-align: right;\n",
       "    }\n",
       "</style>\n",
       "<table border=\"1\" class=\"dataframe\">\n",
       "  <thead>\n",
       "    <tr style=\"text-align: right;\">\n",
       "      <th></th>\n",
       "      <th>rand1</th>\n",
       "      <th>rand2</th>\n",
       "      <th>rand3</th>\n",
       "      <th>rand4</th>\n",
       "    </tr>\n",
       "  </thead>\n",
       "  <tbody>\n",
       "    <tr>\n",
       "      <th>2022-03-01</th>\n",
       "      <td>-2.123812</td>\n",
       "      <td>-0.428428</td>\n",
       "      <td>-1.701824</td>\n",
       "      <td>0.130659</td>\n",
       "    </tr>\n",
       "    <tr>\n",
       "      <th>2022-03-03</th>\n",
       "      <td>0.532092</td>\n",
       "      <td>0.767640</td>\n",
       "      <td>-0.331015</td>\n",
       "      <td>2.634668</td>\n",
       "    </tr>\n",
       "    <tr>\n",
       "      <th>2022-03-04</th>\n",
       "      <td>0.688475</td>\n",
       "      <td>0.601126</td>\n",
       "      <td>-1.774770</td>\n",
       "      <td>-1.167303</td>\n",
       "    </tr>\n",
       "    <tr>\n",
       "      <th>2022-03-05</th>\n",
       "      <td>0.748841</td>\n",
       "      <td>0.830385</td>\n",
       "      <td>2.093621</td>\n",
       "      <td>0.984442</td>\n",
       "    </tr>\n",
       "    <tr>\n",
       "      <th>2022-02-28</th>\n",
       "      <td>0.751421</td>\n",
       "      <td>0.435172</td>\n",
       "      <td>-0.614639</td>\n",
       "      <td>1.270648</td>\n",
       "    </tr>\n",
       "    <tr>\n",
       "      <th>2022-03-02</th>\n",
       "      <td>1.415439</td>\n",
       "      <td>1.838774</td>\n",
       "      <td>1.645187</td>\n",
       "      <td>-0.625112</td>\n",
       "    </tr>\n",
       "  </tbody>\n",
       "</table>\n",
       "</div>"
      ],
      "text/plain": [
       "               rand1     rand2     rand3     rand4\n",
       "2022-03-01 -2.123812 -0.428428 -1.701824  0.130659\n",
       "2022-03-03  0.532092  0.767640 -0.331015  2.634668\n",
       "2022-03-04  0.688475  0.601126 -1.774770 -1.167303\n",
       "2022-03-05  0.748841  0.830385  2.093621  0.984442\n",
       "2022-02-28  0.751421  0.435172 -0.614639  1.270648\n",
       "2022-03-02  1.415439  1.838774  1.645187 -0.625112"
      ]
     },
     "execution_count": 48,
     "metadata": {},
     "output_type": "execute_result"
    }
   ],
   "source": [
    "df.sort_values(by= '''rand1''')"
   ]
  },
  {
   "cell_type": "code",
   "execution_count": 49,
   "id": "54c85fb8",
   "metadata": {},
   "outputs": [
    {
     "data": {
      "text/html": [
       "<div>\n",
       "<style scoped>\n",
       "    .dataframe tbody tr th:only-of-type {\n",
       "        vertical-align: middle;\n",
       "    }\n",
       "\n",
       "    .dataframe tbody tr th {\n",
       "        vertical-align: top;\n",
       "    }\n",
       "\n",
       "    .dataframe thead th {\n",
       "        text-align: right;\n",
       "    }\n",
       "</style>\n",
       "<table border=\"1\" class=\"dataframe\">\n",
       "  <thead>\n",
       "    <tr style=\"text-align: right;\">\n",
       "      <th></th>\n",
       "      <th>rand1</th>\n",
       "      <th>rand2</th>\n",
       "      <th>rand3</th>\n",
       "      <th>rand4</th>\n",
       "    </tr>\n",
       "  </thead>\n",
       "  <tbody>\n",
       "    <tr>\n",
       "      <th>2022-02-28</th>\n",
       "      <td>0.751421</td>\n",
       "      <td>0.435172</td>\n",
       "      <td>-0.614639</td>\n",
       "      <td>1.270648</td>\n",
       "    </tr>\n",
       "    <tr>\n",
       "      <th>2022-03-02</th>\n",
       "      <td>1.415439</td>\n",
       "      <td>1.838774</td>\n",
       "      <td>1.645187</td>\n",
       "      <td>-0.625112</td>\n",
       "    </tr>\n",
       "    <tr>\n",
       "      <th>2022-03-03</th>\n",
       "      <td>0.532092</td>\n",
       "      <td>0.767640</td>\n",
       "      <td>-0.331015</td>\n",
       "      <td>2.634668</td>\n",
       "    </tr>\n",
       "    <tr>\n",
       "      <th>2022-03-04</th>\n",
       "      <td>0.688475</td>\n",
       "      <td>0.601126</td>\n",
       "      <td>-1.774770</td>\n",
       "      <td>-1.167303</td>\n",
       "    </tr>\n",
       "    <tr>\n",
       "      <th>2022-03-05</th>\n",
       "      <td>0.748841</td>\n",
       "      <td>0.830385</td>\n",
       "      <td>2.093621</td>\n",
       "      <td>0.984442</td>\n",
       "    </tr>\n",
       "  </tbody>\n",
       "</table>\n",
       "</div>"
      ],
      "text/plain": [
       "               rand1     rand2     rand3     rand4\n",
       "2022-02-28  0.751421  0.435172 -0.614639  1.270648\n",
       "2022-03-02  1.415439  1.838774  1.645187 -0.625112\n",
       "2022-03-03  0.532092  0.767640 -0.331015  2.634668\n",
       "2022-03-04  0.688475  0.601126 -1.774770 -1.167303\n",
       "2022-03-05  0.748841  0.830385  2.093621  0.984442"
      ]
     },
     "execution_count": 49,
     "metadata": {},
     "output_type": "execute_result"
    }
   ],
   "source": [
    "df[df['rand1']>0]"
   ]
  },
  {
   "cell_type": "markdown",
   "id": "ff3a7492",
   "metadata": {},
   "source": [
    "## read and write operations"
   ]
  },
  {
   "cell_type": "code",
   "execution_count": 57,
   "id": "ba30a540",
   "metadata": {},
   "outputs": [
    {
     "ename": "SyntaxError",
     "evalue": "(unicode error) 'unicodeescape' codec can't decode bytes in position 2-3: truncated \\UXXXXXXXX escape (Temp/ipykernel_9576/3321476290.py, line 1)",
     "output_type": "error",
     "traceback": [
      "\u001b[1;36m  File \u001b[1;32m\"C:\\Users\\AmirH\\AppData\\Local\\Temp/ipykernel_9576/3321476290.py\"\u001b[1;36m, line \u001b[1;32m1\u001b[0m\n\u001b[1;33m    df.to_csv('C:\\Users\\AmirH\\Documents\\py\\ML')\u001b[0m\n\u001b[1;37m              ^\u001b[0m\n\u001b[1;31mSyntaxError\u001b[0m\u001b[1;31m:\u001b[0m (unicode error) 'unicodeescape' codec can't decode bytes in position 2-3: truncated \\UXXXXXXXX escape\n"
     ]
    }
   ],
   "source": [
    "df.to_csv('C:\\Users\\AmirH\\Documents\\py\\ML')"
   ]
  },
  {
   "cell_type": "code",
   "execution_count": null,
   "id": "c3b434f0",
   "metadata": {},
   "outputs": [],
   "source": []
  }
 ],
 "metadata": {
  "kernelspec": {
   "display_name": "Python 3 (ipykernel)",
   "language": "python",
   "name": "python3"
  },
  "language_info": {
   "codemirror_mode": {
    "name": "ipython",
    "version": 3
   },
   "file_extension": ".py",
   "mimetype": "text/x-python",
   "name": "python",
   "nbconvert_exporter": "python",
   "pygments_lexer": "ipython3",
   "version": "3.8.12"
  }
 },
 "nbformat": 4,
 "nbformat_minor": 5
}
